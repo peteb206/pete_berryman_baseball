{
 "cells": [
  {
   "cell_type": "code",
   "execution_count": 1,
   "metadata": {},
   "outputs": [],
   "source": [
    "import requests\n",
    "from bs4 import BeautifulSoup\n",
    "import pandas as pd\n",
    "import re"
   ]
  },
  {
   "cell_type": "code",
   "execution_count": 2,
   "metadata": {},
   "outputs": [],
   "source": [
    "year = 2020\n",
    "page = requests.get('https://www.canadianbaseballnetwork.com/canadians-in-college/{}-canadians-in-college'.format(str(year)))\n",
    "soup = BeautifulSoup(page.text, 'html.parser')\n",
    "div = soup.find(\"div\", {\"id\": \"block-yui_3_17_2_1_1604547079964_31164\"})"
   ]
  },
  {
   "cell_type": "code",
   "execution_count": 3,
   "metadata": {},
   "outputs": [
    {
     "name": "stdout",
     "output_type": "stream",
     "text": [
      "blah blah (WA)\n"
     ]
    }
   ],
   "source": [
    "string = 'blah blah (WA) blah blah'\n",
    "for m in re.compile(\"\\(.{2}\\)\").finditer(string):\n",
    "    print(string[0: m.end()])"
   ]
  },
  {
   "cell_type": "code",
   "execution_count": 4,
   "metadata": {},
   "outputs": [
    {
     "name": "stdout",
     "output_type": "stream",
     "text": [
      "freshmen: 250 people\n",
      "sophomores: 159 people\n",
      "juniors: 176 people\n",
      "seniors: 227 people\n"
     ]
    }
   ],
   "source": [
    "df_dict = dict()\n",
    "class_list = ['freshmen', 'sophomores', 'juniors', 'seniors']\n",
    "for year in class_list:\n",
    "     df_dict[year] = list()\n",
    "class_list.append('freshman')\n",
    "\n",
    "current_class = ''\n",
    "for p in div.find_all(\"p\"):\n",
    "    text = p.getText()\n",
    "    if (current_class != ''):\n",
    "        for m in re.compile(\"\\(.{2}\\)\").finditer(text):\n",
    "            text = text[0: m.end()]\n",
    "            #position = text.split(' ')[0]\n",
    "            player_dict = dict()\n",
    "            player_dict['text'] = text\n",
    "            df_dict[current_class if current_class != 'freshman' else 'freshmen'].append(player_dict)\n",
    "    if text.lower() in class_list:\n",
    "        current_class = text.lower()\n",
    "\n",
    "class_list.remove('freshman')\n",
    "for year in class_list:\n",
    "    print('{}: {} people'.format(year, str(len(df_dict[year]))))"
   ]
  },
  {
   "cell_type": "code",
   "execution_count": null,
   "metadata": {},
   "outputs": [],
   "source": []
  }
 ],
 "metadata": {
  "kernelspec": {
   "display_name": "Python 3",
   "language": "python",
   "name": "python3"
  },
  "language_info": {
   "codemirror_mode": {
    "name": "ipython",
    "version": 3
   },
   "file_extension": ".py",
   "mimetype": "text/x-python",
   "name": "python",
   "nbconvert_exporter": "python",
   "pygments_lexer": "ipython3",
   "version": "3.7.9"
  }
 },
 "nbformat": 4,
 "nbformat_minor": 4
}
